{
 "cells": [
  {
   "cell_type": "markdown",
   "metadata": {},
   "source": [
    "**tl;dr**: *this is a post on how to use IPython Notebooks in git repositories. You don't actually need to read the post. All the code is in [this gist](https://gist.github.com/pbugnion/ea2797393033b54674af). Just download it and follow the instructions.*"
   ]
  },
  {
   "cell_type": "markdown",
   "metadata": {},
   "source": [
    "Pretty much everyone and their grandmother have started using the IPython notebook for basically everything. For good reason, because notebooks are great.\n",
    "\n",
    "Notebooks don't play particularly well with version control, though. Imagine this: you've got this cool open source package, and you want to write some examples for it. IPython notebooks seem like the way to go, so you write an example notebook, which you save, add to your git repository and commit. But, it turns out, your package uses random numbers (all the best packages do). Two days later, you re-open the notebook, re-run some of the code cells by accident, and now all the output has changed because of the random numbers, so your git index is a mess with lots of red `M`'s everywhere. Then you think, \"gee (because, apparently, you say 'gee'), it would be great if git magically knew it should only look at the input cells!\".\n",
    "\n",
    "This post is a recipe for using IPython notebooks in git. It's not wholly original. In fact, it's an extension of [this answer](http://stackoverflow.com/a/20844506/827862) on Stack Overflow. \n",
    "\n",
    "We are going to write a script that tells git to:\n",
    "\n",
    " - ignore the output cells\n",
    " - ignore prompt numbers\n",
    " \n",
    "We don't necessarily want to do this for every notebook, though. Sometimes it makes sense to keep the output. We'll specify in the notebook metadata (more on that in a second) that git needs to ignore the output and prompt for this particular notebook.\n",
    "\n",
    "We'll do this using [git filters](http://git-scm.com/book/en/v2/Customizing-Git-Git-Attributes). Filters let you specify how to process a file when going from the working directory to the repository and vice-versa. Filters expect to read the input file from `stdin` and spit the filtered version to `stdout`. Note that they don't actually change the file in the working directory at all, only the way it is represented in `git`.\n",
    "\n",
    "## Git filters\n",
    "\n",
    "<div class=\"custom-img\">\n",
    "<img alt=\"filter drawing\" src=\"images/git_filter_smudge.svg\" align=\"middle\">\n",
    "</div>\n",
    "\n",
    "Filters come in two flavours: \n",
    "\n",
    "1. *clean* filters, which are applied when git needs to interpret a file in the current directory (when running `git add`,\n",
    "    or to decide what has changed when running `git status` or `git diff`). We want this filter to exclude all output cells.\n",
    "2. *smudge* filters, which are applied when git needs to re-construct the working directory, for example following a `git clone` command. It would be great if this filter could, somehow, re-construct the original output, but that might be difficult without running the notebook, so we'll let this filter do nothing. \n",
    "\n",
    "<div class=\"custom-img\">\n",
    "<img alt=\"filter drawing\" src=\"images/git_filter.svg\" align=\"middle\">\n",
    "</div>\n",
    "\n",
    "We want the clean filter to:\n",
    "\n",
    "1. Check the notebook metadata to see if it should filter it,\n",
    "2. If so, print a new version of the notebook to stdout without any output cells or prompt numbers.\n",
    "\n",
    "The notebook is just a [JSON document](http://en.wikipedia.org/wiki/JSON), so it's easy to parse. The script below does exactly this. You can download a version [here](https://gist.github.com/pbugnion/ea2797393033b54674af#file-ipynb_drop_output-py)."
   ]
  },
  {
   "cell_type": "code",
   "execution_count": null,
   "metadata": {
    "collapsed": false
   },
   "outputs": [],
   "source": [
    "#!/usr/bin/env python\n",
    "\n",
    "import sys\n",
    "import json\n",
    "\n",
    "nb = sys.stdin.read() # Read the notebook from stdin.\n",
    "\n",
    "# First, check the metadata for the following JSON block:\n",
    "# \"git\" : {\n",
    "#     \"suppress_outputs\" : true\n",
    "# }\n",
    "json_in = json.loads(nb)\n",
    "nb_metadata = json_in[\"metadata\"]\n",
    "suppress_output = False\n",
    "if \"git\" in nb_metadata:\n",
    "    if \"suppress_outputs\" in nb_metadata[\"git\"] and nb_metadata[\"git\"][\"suppress_outputs\"]:\n",
    "        suppress_output = True\n",
    "\n",
    "if not suppress_output:\n",
    "    # Metadata tells us not to suppress output:\n",
    "    # simply send notebook, as is, to stdout.\n",
    "    sys.stdout.write(nb)\n",
    "    exit() \n",
    " \n",
    "# Get the IPython version used to write the notebook.\n",
    "ipy_version = int(json_in[\"nbformat\"])-1 # nbformat is 1 more than actual version.\n",
    " \n",
    "def strip_output_from_cell(cell):\n",
    "    \"\"\"\n",
    "    Takes a notebook cell and removes the \"prompt_number\" field \n",
    "    and the \"outputs\" field.\n",
    "    \"\"\"\n",
    "    if \"outputs\" in cell:\n",
    "        cell[\"outputs\"] = []\n",
    "    if \"prompt_number\" in cell:\n",
    "        del cell[\"prompt_number\"]\n",
    " \n",
    "# Process the notebook\n",
    "if ipy_version == 2:\n",
    "    for sheet in json_in[\"worksheets\"]:\n",
    "        for cell in sheet[\"cells\"]:\n",
    "            strip_output_from_cell(cell)\n",
    "else:\n",
    "    for cell in json_in[\"cells\"]:\n",
    "        strip_output_from_cell(cell)\n",
    "\n",
    "# Dump the processed notebook to stdout.\n",
    "json.dump(json_in, sys.stdout, sort_keys=True, indent=1, separators=(\",\",\": \"))"
   ]
  },
  {
   "cell_type": "markdown",
   "metadata": {},
   "source": [
    "This script reads a notebook from stdin and outputs it to stdout, which is what git filters expect. Before we move on to how to use the script, let's take a brief detour through IPython notebook metadata.\n",
    "\n",
    "## Notebook metadata\n",
    "\n",
    "You can associate arbitrary data with an IPython notebook through its metadata. The metadata is a [JSON document](http://en.wikipedia.org/wiki/JSON) that you can access by clicking `Edit > Edit Notebook Metadata`. We will use notebook metadata to tell git to suppress outputs (or not). The script outlined above checks the notebook metadata for a `\"git\"` field. Adding\n",
    "\n",
    "    \"git\" : { \"suppress_outputs\" : true },\n",
    "\n",
    "to the notebook metadata will tell the git filter to strip output cells. The full metadata will now look like:\n",
    "\n",
    "    {\n",
    "        \"name\" : \"\",\n",
    "        \"git\" : { \"suppress_outputs\" : true },\n",
    "        \"signature\" : \"some long string\"\n",
    "    }"
   ]
  },
  {
   "cell_type": "markdown",
   "metadata": {},
   "source": [
    "## Enabling git filters\n",
    "\n",
    "So we have a script in place to strip outputs and prompts, and we understand how to edit the notebook metadata to tell the script to do this. All that we now need to do is tell git that it needs to use the script as a *clean* filter for `*.ipynb` files.\n",
    "\n",
    "First, download the [script](https://gist.github.com/pbugnion/ea2797393033b54674af#file-ipynb_drop_output-py) and save it to a directory in the system path. For future reference, I will assume that you saved the file as `~/scripts/ipynb_drop_output`. Make the file executable with `chmod u+x ~/scripts/ipynb_drop_output`.\n",
    "\n",
    "We can tell git to use a filter for IPython notebooks by editing one of the [`.gitattributes` file](http://git-scm.com/docs/gitattributes). Which file you need to edit depends on whether you want the filter to apply:\n",
    "\n",
    "* *system-wide*: you want `~/.config/git/attributes`.\n",
    "* *in a particular repository*:  you want `.gitattributes` in the repository's root directory.\n",
    "\n",
    "Whichever `.gitattributes` file you edit, you need to add the line `*.ipynb filter=clean_ipynb`. This tells git to use the filter `clean_ipynb` for any file with extension `*.ipynb`. Here, `clean_ipynb` is the just name of the filter. It can be whatever you want. \n",
    "\n",
    "We now need to edit the git configuration so that git knows what the filter `clean_ipynb` is. The easiest is to type the following commands in a terminal:\n",
    "\n",
    "    $ git config --global filter.clean_ipynb.clean ipynb_drop_output\n",
    "$ git config --global filter.clean_ipynb.smudge cat\n",
    "    \n",
    "These apply the settings system-wide. To apply them to a specific repository instead, use the same commands but without the `--global` option (from anywhere inside the repository).\n",
    "\n",
    "Note that we just use `cat` for the smudge filter. The smudge filter therefore does nothing."
   ]
  },
  {
   "cell_type": "markdown",
   "metadata": {},
   "source": [
    "## Storing the filter configuration with a repository\n",
    "\n",
    "You might want to bundle the filter and various options associated with it with a repository when you distribute it. This is what I'm planning on doing for [gmaps](https://github.com/pbugnion/gmaps), for instance. \n",
    "\n",
    "To do this, you need to:\n",
    "\n",
    " * bundle the `ipynb_drop_output` script with your repository,\n",
    " * put `*.ipynb filter=clean_ipynb` in the file `.gitattributes` in the top directory of your repository,\n",
    " * create a file `.gitconfig` in the top directory of your repository,\n",
    " * run the commands \n",
    "       $ git config --file .gitconfig filter.clean_ipynb.clean ipynb_drop_output\n",
    "$ git config --file .gitconfig filter.clean_ipynb.smudge cat\n",
    "   in the top directory of your repository.\n",
    "\n",
    "You can then add `.gitattributes` and `.gitconfig` to the repository.\n",
    "\n",
    "Each time a user clones the repository, she will need to:\n",
    " * make sure `ipynb_drop_output` is both executable and on the system path,\n",
    " * run `git config --add include.path /path/to/repository/.gitconfig` from anywhere inside the git repository so that git knows to look at the `.gitconfig` file."
   ]
  },
  {
   "cell_type": "markdown",
   "metadata": {},
   "source": [
    "## Conclusion\n",
    "\n",
    "This post describes a sensible way of including IPython notebooks in git. Of course, it might not do exactly what you want, but it should be quite easy to adapt the code to something closer to what you need."
   ]
  },
  {
   "cell_type": "code",
   "execution_count": null,
   "metadata": {
    "collapsed": false
   },
   "outputs": [],
   "source": []
  }
 ],
 "metadata": {
  "kernelspec": {
   "display_name": "Python 2",
   "language": "python",
   "name": "python2"
  },
  "language_info": {
   "codemirror_mode": {
    "name": "ipython",
    "version": 2
   },
   "file_extension": ".py",
   "mimetype": "text/x-python",
   "name": "python",
   "nbconvert_exporter": "python",
   "pygments_lexer": "ipython2",
   "version": "2.7.5"
  },
  "pelican": {
   "Date": "2014-12-25",
   "Summary": "git_ipy_notebook_summary.md",
   "Title": "IPython notebooks and git"
  }
 },
 "nbformat": 4,
 "nbformat_minor": 0
}
